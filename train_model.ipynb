{
 "cells": [
  {
   "cell_type": "code",
   "execution_count": 2,
   "metadata": {},
   "outputs": [
    {
     "name": "stderr",
     "output_type": "stream",
     "text": [
      "Using TensorFlow backend.\n"
     ]
    }
   ],
   "source": [
    "import numpy as np\n",
    "from keras.models import Sequential\n",
    "from keras.layers import Dense,Conv2D,MaxPooling2D,Dropout,Flatten\n",
    "from keras.datasets import cifar10\n",
    "from keras.utils import to_categorical\n",
    "import matplotlib.pyplot as plt"
   ]
  },
  {
   "cell_type": "code",
   "execution_count": 2,
   "metadata": {},
   "outputs": [],
   "source": [
    "(train_images,train_labels),(test_images,test_labels) = cifar10.load_data()\n",
    "classes = np.unique(train_labels)\n",
    "nClasses = len(classes)\n",
    "cifar_classes = [\"airplane\",\"automobile\",\"bird\",\"cat\",\"deer\",\"dog\",\"frog\",\"horse\",\"ship\",\"truck\"]"
   ]
  },
  {
   "cell_type": "code",
   "execution_count": 3,
   "metadata": {},
   "outputs": [
    {
     "name": "stdout",
     "output_type": "stream",
     "text": [
      "(50000, 10)\n"
     ]
    }
   ],
   "source": [
    "nrows,ncols,ndims = train_images.shape[1:]\n",
    "input_shape = (nrows,ncols,ndims)\n",
    "train_data = train_images.astype(\"float32\")\n",
    "test_data = test_images.astype(\"float32\")\n",
    "train_data /= 255\n",
    "test_data /= 255\n",
    "train_labels_onehot = to_categorical(train_labels)\n",
    "test_labels_onehot = to_categorical(test_labels)\n",
    "print(train_labels_onehot.shape)"
   ]
  },
  {
   "cell_type": "code",
   "execution_count": 4,
   "metadata": {},
   "outputs": [],
   "source": [
    "def createModel():\n",
    "    model = Sequential()\n",
    "    model.add(Conv2D(32,(3,3),padding=\"same\",activation=\"relu\",input_shape=input_shape))\n",
    "    model.add(Conv2D(32,(3,3),activation=\"relu\"))\n",
    "    model.add(MaxPooling2D(pool_size=(2,2)))\n",
    "    model.add(Dropout(0.25))\n",
    "    model.add(Conv2D(64,(3,3),padding=\"same\",activation=\"relu\"))\n",
    "    model.add(Conv2D(64,(3,3),activation=\"relu\"))\n",
    "    model.add(MaxPooling2D(pool_size=(2,2)))\n",
    "    model.add(Dropout(0.25))\n",
    "    model.add(Conv2D(64,(3,3),padding=\"same\",activation=\"relu\"))\n",
    "    model.add(Conv2D(64,(3,3),activation=\"relu\"))\n",
    "    model.add(MaxPooling2D(pool_size=(2,2)))\n",
    "    model.add(Dropout(0.25))\n",
    "    model.add(Flatten())\n",
    "    model.add(Dense(512,activation=\"relu\"))\n",
    "    model.add(Dropout(0.5))\n",
    "    model.add(Dense(nClasses,activation=\"softmax\"))\n",
    "    return model"
   ]
  },
  {
   "cell_type": "code",
   "execution_count": 5,
   "metadata": {
    "scrolled": true
   },
   "outputs": [
    {
     "name": "stdout",
     "output_type": "stream",
     "text": [
      "Model: \"sequential_1\"\n",
      "_________________________________________________________________\n",
      "Layer (type)                 Output Shape              Param #   \n",
      "=================================================================\n",
      "conv2d_1 (Conv2D)            (None, 32, 32, 32)        896       \n",
      "_________________________________________________________________\n",
      "conv2d_2 (Conv2D)            (None, 30, 30, 32)        9248      \n",
      "_________________________________________________________________\n",
      "max_pooling2d_1 (MaxPooling2 (None, 15, 15, 32)        0         \n",
      "_________________________________________________________________\n",
      "dropout_1 (Dropout)          (None, 15, 15, 32)        0         \n",
      "_________________________________________________________________\n",
      "conv2d_3 (Conv2D)            (None, 15, 15, 64)        18496     \n",
      "_________________________________________________________________\n",
      "conv2d_4 (Conv2D)            (None, 13, 13, 64)        36928     \n",
      "_________________________________________________________________\n",
      "max_pooling2d_2 (MaxPooling2 (None, 6, 6, 64)          0         \n",
      "_________________________________________________________________\n",
      "dropout_2 (Dropout)          (None, 6, 6, 64)          0         \n",
      "_________________________________________________________________\n",
      "conv2d_5 (Conv2D)            (None, 6, 6, 64)          36928     \n",
      "_________________________________________________________________\n",
      "conv2d_6 (Conv2D)            (None, 4, 4, 64)          36928     \n",
      "_________________________________________________________________\n",
      "max_pooling2d_3 (MaxPooling2 (None, 2, 2, 64)          0         \n",
      "_________________________________________________________________\n",
      "dropout_3 (Dropout)          (None, 2, 2, 64)          0         \n",
      "_________________________________________________________________\n",
      "flatten_1 (Flatten)          (None, 256)               0         \n",
      "_________________________________________________________________\n",
      "dense_1 (Dense)              (None, 512)               131584    \n",
      "_________________________________________________________________\n",
      "dropout_4 (Dropout)          (None, 512)               0         \n",
      "_________________________________________________________________\n",
      "dense_2 (Dense)              (None, 10)                5130      \n",
      "=================================================================\n",
      "Total params: 276,138\n",
      "Trainable params: 276,138\n",
      "Non-trainable params: 0\n",
      "_________________________________________________________________\n",
      "(50000, 32, 32, 3)\n",
      "(50000, 1)\n",
      "Train on 50000 samples, validate on 10000 samples\n",
      "Epoch 1/50\n",
      "50000/50000 [==============================] - 13s 267us/step - loss: 2.1093 - acc: 0.2177 - val_loss: 1.9077 - val_acc: 0.3177\n",
      "Epoch 2/50\n",
      "50000/50000 [==============================] - 8s 158us/step - loss: 1.7305 - acc: 0.3684 - val_loss: 1.6207 - val_acc: 0.4013\n",
      "Epoch 3/50\n",
      "50000/50000 [==============================] - 8s 162us/step - loss: 1.5256 - acc: 0.4442 - val_loss: 1.3699 - val_acc: 0.5025\n",
      "Epoch 4/50\n",
      "50000/50000 [==============================] - 8s 162us/step - loss: 1.3837 - acc: 0.5008 - val_loss: 1.2637 - val_acc: 0.5539\n",
      "Epoch 5/50\n",
      "50000/50000 [==============================] - 8s 168us/step - loss: 1.2811 - acc: 0.5447 - val_loss: 1.2307 - val_acc: 0.5565\n",
      "Epoch 6/50\n",
      "50000/50000 [==============================] - 9s 177us/step - loss: 1.1928 - acc: 0.5760 - val_loss: 1.1656 - val_acc: 0.5877\n",
      "Epoch 7/50\n",
      "50000/50000 [==============================] - 10s 207us/step - loss: 1.1196 - acc: 0.6023 - val_loss: 1.1296 - val_acc: 0.6000\n",
      "Epoch 8/50\n",
      "50000/50000 [==============================] - 11s 213us/step - loss: 1.0517 - acc: 0.6276 - val_loss: 1.0904 - val_acc: 0.6050\n",
      "Epoch 9/50\n",
      "50000/50000 [==============================] - 11s 224us/step - loss: 0.9952 - acc: 0.6498 - val_loss: 0.8639 - val_acc: 0.6949\n",
      "Epoch 10/50\n",
      "50000/50000 [==============================] - 27s 550us/step - loss: 0.9489 - acc: 0.6671 - val_loss: 1.0421 - val_acc: 0.6438\n",
      "Epoch 11/50\n",
      "50000/50000 [==============================] - 22s 447us/step - loss: 0.9066 - acc: 0.6825 - val_loss: 0.8781 - val_acc: 0.7024\n",
      "Epoch 12/50\n",
      "50000/50000 [==============================] - 29s 584us/step - loss: 0.8671 - acc: 0.6979 - val_loss: 0.7879 - val_acc: 0.7238\n",
      "Epoch 13/50\n",
      "50000/50000 [==============================] - 29s 587us/step - loss: 0.8325 - acc: 0.7110 - val_loss: 0.9093 - val_acc: 0.6880\n",
      "Epoch 14/50\n",
      "50000/50000 [==============================] - 29s 582us/step - loss: 0.7975 - acc: 0.7221 - val_loss: 0.8100 - val_acc: 0.7194\n",
      "Epoch 15/50\n",
      "50000/50000 [==============================] - 36s 728us/step - loss: 0.7755 - acc: 0.7311 - val_loss: 0.7241 - val_acc: 0.7496\n",
      "Epoch 16/50\n",
      "50000/50000 [==============================] - 55s 1ms/step - loss: 0.7489 - acc: 0.7392 - val_loss: 0.7441 - val_acc: 0.7452\n",
      "Epoch 17/50\n",
      "50000/50000 [==============================] - 55s 1ms/step - loss: 0.7175 - acc: 0.7490 - val_loss: 0.7662 - val_acc: 0.7402\n",
      "Epoch 18/50\n",
      "50000/50000 [==============================] - 54s 1ms/step - loss: 0.7072 - acc: 0.7541 - val_loss: 0.7538 - val_acc: 0.7417\n",
      "Epoch 19/50\n",
      "50000/50000 [==============================] - 54s 1ms/step - loss: 0.6905 - acc: 0.7607 - val_loss: 0.7649 - val_acc: 0.7348\n",
      "Epoch 20/50\n",
      "50000/50000 [==============================] - 25s 505us/step - loss: 0.6682 - acc: 0.7670 - val_loss: 0.7189 - val_acc: 0.7517\n",
      "Epoch 21/50\n",
      "50000/50000 [==============================] - 9s 180us/step - loss: 0.6478 - acc: 0.7758 - val_loss: 0.7980 - val_acc: 0.7437\n",
      "Epoch 22/50\n",
      "50000/50000 [==============================] - 9s 175us/step - loss: 0.6361 - acc: 0.7813 - val_loss: 0.8454 - val_acc: 0.7201\n",
      "Epoch 23/50\n",
      "50000/50000 [==============================] - 9s 172us/step - loss: 0.6242 - acc: 0.7850 - val_loss: 0.7779 - val_acc: 0.7370\n",
      "Epoch 24/50\n",
      "50000/50000 [==============================] - 9s 171us/step - loss: 0.6117 - acc: 0.7883 - val_loss: 0.6339 - val_acc: 0.7862\n",
      "Epoch 25/50\n",
      "50000/50000 [==============================] - 10s 191us/step - loss: 0.6046 - acc: 0.7925 - val_loss: 0.6784 - val_acc: 0.7692\n",
      "Epoch 26/50\n",
      "50000/50000 [==============================] - 9s 175us/step - loss: 0.5928 - acc: 0.7940 - val_loss: 0.6847 - val_acc: 0.7752\n",
      "Epoch 27/50\n",
      "50000/50000 [==============================] - 9s 178us/step - loss: 0.5816 - acc: 0.7994 - val_loss: 0.7159 - val_acc: 0.7671\n",
      "Epoch 28/50\n",
      "50000/50000 [==============================] - 9s 172us/step - loss: 0.5685 - acc: 0.8027 - val_loss: 0.6706 - val_acc: 0.7746\n",
      "Epoch 29/50\n",
      "50000/50000 [==============================] - 9s 179us/step - loss: 0.5668 - acc: 0.8046 - val_loss: 0.7095 - val_acc: 0.7656\n",
      "Epoch 30/50\n",
      "50000/50000 [==============================] - 9s 173us/step - loss: 0.5556 - acc: 0.8094 - val_loss: 0.6541 - val_acc: 0.7851\n",
      "Epoch 31/50\n",
      "50000/50000 [==============================] - 9s 171us/step - loss: 0.5485 - acc: 0.8106 - val_loss: 0.6769 - val_acc: 0.7755\n",
      "Epoch 32/50\n",
      "50000/50000 [==============================] - 9s 176us/step - loss: 0.5400 - acc: 0.8124 - val_loss: 0.6442 - val_acc: 0.7840\n",
      "Epoch 33/50\n",
      "50000/50000 [==============================] - 8s 169us/step - loss: 0.5381 - acc: 0.8143 - val_loss: 0.6117 - val_acc: 0.8028\n",
      "Epoch 34/50\n",
      "50000/50000 [==============================] - 9s 173us/step - loss: 0.5274 - acc: 0.8169 - val_loss: 0.6533 - val_acc: 0.7899\n",
      "Epoch 35/50\n",
      "50000/50000 [==============================] - 9s 173us/step - loss: 0.5205 - acc: 0.8201 - val_loss: 0.6147 - val_acc: 0.8000\n",
      "Epoch 36/50\n",
      "50000/50000 [==============================] - 9s 176us/step - loss: 0.5147 - acc: 0.8226 - val_loss: 0.6467 - val_acc: 0.7866\n",
      "Epoch 37/50\n",
      "50000/50000 [==============================] - 9s 176us/step - loss: 0.5113 - acc: 0.8241 - val_loss: 0.6676 - val_acc: 0.7939\n",
      "Epoch 38/50\n",
      "50000/50000 [==============================] - 9s 178us/step - loss: 0.5092 - acc: 0.8254 - val_loss: 0.6258 - val_acc: 0.8007\n",
      "Epoch 39/50\n",
      "50000/50000 [==============================] - 9s 175us/step - loss: 0.5034 - acc: 0.8270 - val_loss: 0.6553 - val_acc: 0.7903\n",
      "Epoch 40/50\n",
      "50000/50000 [==============================] - 9s 176us/step - loss: 0.4996 - acc: 0.8295 - val_loss: 0.6338 - val_acc: 0.8023\n",
      "Epoch 41/50\n",
      "50000/50000 [==============================] - 9s 174us/step - loss: 0.4936 - acc: 0.8294 - val_loss: 0.6426 - val_acc: 0.8010\n",
      "Epoch 42/50\n",
      "50000/50000 [==============================] - 9s 182us/step - loss: 0.4902 - acc: 0.8299 - val_loss: 0.6699 - val_acc: 0.7884\n",
      "Epoch 43/50\n",
      "50000/50000 [==============================] - 8s 169us/step - loss: 0.4876 - acc: 0.8331 - val_loss: 0.6977 - val_acc: 0.7865\n",
      "Epoch 44/50\n",
      "50000/50000 [==============================] - 8s 170us/step - loss: 0.4845 - acc: 0.8337 - val_loss: 0.6402 - val_acc: 0.7957\n",
      "Epoch 45/50\n",
      "50000/50000 [==============================] - 8s 167us/step - loss: 0.4813 - acc: 0.8370 - val_loss: 0.6782 - val_acc: 0.7804\n",
      "Epoch 46/50\n",
      "50000/50000 [==============================] - 9s 171us/step - loss: 0.4758 - acc: 0.8368 - val_loss: 0.6155 - val_acc: 0.7997\n",
      "Epoch 47/50\n",
      "50000/50000 [==============================] - 8s 167us/step - loss: 0.4732 - acc: 0.8371 - val_loss: 0.8312 - val_acc: 0.7684\n",
      "Epoch 48/50\n",
      "50000/50000 [==============================] - 9s 170us/step - loss: 0.4731 - acc: 0.8374 - val_loss: 0.6638 - val_acc: 0.7903\n",
      "Epoch 49/50\n",
      "50000/50000 [==============================] - 9s 174us/step - loss: 0.4660 - acc: 0.8395 - val_loss: 0.6505 - val_acc: 0.8058\n",
      "Epoch 50/50\n",
      "50000/50000 [==============================] - 10s 207us/step - loss: 0.4683 - acc: 0.8409 - val_loss: 0.6532 - val_acc: 0.7965\n",
      "10000/10000 [==============================] - 2s 220us/step\n"
     ]
    },
    {
     "data": {
      "text/plain": [
       "[0.6532283869743347, 0.796500027179718]"
      ]
     },
     "execution_count": 5,
     "metadata": {},
     "output_type": "execute_result"
    }
   ],
   "source": [
    "model1 = createModel()\n",
    "batch_size=256\n",
    "epochs=50\n",
    "model1.compile(optimizer=\"rmsprop\",loss=\"categorical_crossentropy\",metrics=[\"acc\"])\n",
    "model1.summary()\n",
    "print(train_data.shape)\n",
    "print(train_labels.shape)\n",
    "history = model1.fit(train_data,train_labels_onehot,batch_size=batch_size,\n",
    "                     epochs=epochs,verbose=1,\n",
    "                     validation_data=(test_data,test_labels_onehot))\n",
    "model1.evaluate(test_data,test_labels_onehot)"
   ]
  },
  {
   "cell_type": "code",
   "execution_count": 1,
   "metadata": {
    "scrolled": true
   },
   "outputs": [
    {
     "ename": "NameError",
     "evalue": "name 'plt' is not defined",
     "output_type": "error",
     "traceback": [
      "\u001b[1;31m---------------------------------------------------------------------------\u001b[0m",
      "\u001b[1;31mNameError\u001b[0m                                 Traceback (most recent call last)",
      "\u001b[1;32m<ipython-input-1-fff1588a4e76>\u001b[0m in \u001b[0;36m<module>\u001b[1;34m\u001b[0m\n\u001b[1;32m----> 1\u001b[1;33m \u001b[0mplt\u001b[0m\u001b[1;33m.\u001b[0m\u001b[0mfigure\u001b[0m\u001b[1;33m(\u001b[0m\u001b[0mfigsize\u001b[0m\u001b[1;33m=\u001b[0m\u001b[1;33m[\u001b[0m\u001b[1;36m8\u001b[0m\u001b[1;33m,\u001b[0m\u001b[1;36m6\u001b[0m\u001b[1;33m]\u001b[0m\u001b[1;33m)\u001b[0m\u001b[1;33m\u001b[0m\u001b[1;33m\u001b[0m\u001b[0m\n\u001b[0m\u001b[0;32m      2\u001b[0m \u001b[0mplt\u001b[0m\u001b[1;33m.\u001b[0m\u001b[0mplot\u001b[0m\u001b[1;33m(\u001b[0m\u001b[0mhistory\u001b[0m\u001b[1;33m.\u001b[0m\u001b[0mhistory\u001b[0m\u001b[1;33m[\u001b[0m\u001b[1;34m\"loss\"\u001b[0m\u001b[1;33m]\u001b[0m\u001b[1;33m,\u001b[0m\u001b[1;34m\"r\"\u001b[0m\u001b[1;33m)\u001b[0m\u001b[1;33m\u001b[0m\u001b[1;33m\u001b[0m\u001b[0m\n\u001b[0;32m      3\u001b[0m \u001b[0mplt\u001b[0m\u001b[1;33m.\u001b[0m\u001b[0mplot\u001b[0m\u001b[1;33m(\u001b[0m\u001b[0mhistory\u001b[0m\u001b[1;33m.\u001b[0m\u001b[0mhistory\u001b[0m\u001b[1;33m[\u001b[0m\u001b[1;34m\"val_loss\"\u001b[0m\u001b[1;33m]\u001b[0m\u001b[1;33m,\u001b[0m\u001b[1;34m\"b\"\u001b[0m\u001b[1;33m)\u001b[0m\u001b[1;33m\u001b[0m\u001b[1;33m\u001b[0m\u001b[0m\n\u001b[0;32m      4\u001b[0m \u001b[0mplt\u001b[0m\u001b[1;33m.\u001b[0m\u001b[0mlegend\u001b[0m\u001b[1;33m(\u001b[0m\u001b[1;33m[\u001b[0m\u001b[1;34m\"train_loss\"\u001b[0m\u001b[1;33m,\u001b[0m\u001b[1;34m\"validation_loss\"\u001b[0m\u001b[1;33m]\u001b[0m\u001b[1;33m,\u001b[0m\u001b[0mfontsize\u001b[0m\u001b[1;33m=\u001b[0m\u001b[1;36m12\u001b[0m\u001b[1;33m)\u001b[0m\u001b[1;33m\u001b[0m\u001b[1;33m\u001b[0m\u001b[0m\n\u001b[0;32m      5\u001b[0m \u001b[0mplt\u001b[0m\u001b[1;33m.\u001b[0m\u001b[0mxlabel\u001b[0m\u001b[1;33m(\u001b[0m\u001b[1;34m\"Epochs\"\u001b[0m\u001b[1;33m,\u001b[0m\u001b[0mfontsize\u001b[0m\u001b[1;33m=\u001b[0m\u001b[1;36m14\u001b[0m\u001b[1;33m)\u001b[0m\u001b[1;33m\u001b[0m\u001b[1;33m\u001b[0m\u001b[0m\n",
      "\u001b[1;31mNameError\u001b[0m: name 'plt' is not defined"
     ]
    }
   ],
   "source": [
    "plt.figure(figsize=[8,6])\n",
    "plt.plot(history.history[\"loss\"],\"r\")\n",
    "plt.plot(history.history[\"val_loss\"],\"b\")\n",
    "plt.legend([\"train_loss\",\"validation_loss\"],fontsize=12)\n",
    "plt.xlabel(\"Epochs\",fontsize=14)\n",
    "plt.ylabel(\"Loss\",fontsize=14)\n",
    "plt.title(\"Loss Curves\",fontsize=14)\n",
    "\n",
    "plt.figure(figsize=[8,6])\n",
    "plt.plot(history.history[\"acc\"],\"r\")\n",
    "plt.plot(history.history[\"val_acc\"],\"b\")\n",
    "plt.legend([\"train_acc\",\"validation_acc\"],fontsize=12)\n",
    "plt.xlabel(\"Epochs\",fontsize=14)\n",
    "plt.ylabel(\"Accuracy\",fontsize=14)\n",
    "plt.title(\"Accuracy Curves\",fontsize=14)\n",
    "plt.show()"
   ]
  },
  {
   "cell_type": "code",
   "execution_count": 10,
   "metadata": {},
   "outputs": [],
   "source": [
    "from keras.preprocessing.image import ImageDataGenerator\n",
    "model2 = createModel()\n",
    "model2.compile(optimizer=\"rmsprop\",loss=\"categorical_crossentropy\",metrics=[\"acc\"])\n",
    "batch_size = 256\n",
    "epochs = 10\n",
    "datagen = ImageDataGenerator(\n",
    "            zoom_range=0.2,\n",
    "            rotation_range=10,\n",
    "            width_shift_range=0.1,\n",
    "            height_shift_range=0.1,\n",
    "            horizontal_flip=True,\n",
    "            vertical_flip=False)"
   ]
  },
  {
   "cell_type": "code",
   "execution_count": 12,
   "metadata": {},
   "outputs": [
    {
     "name": "stdout",
     "output_type": "stream",
     "text": [
      "Epoch 1/10\n",
      "196/196 [==============================] - 27s 138ms/step - loss: 2.0702 - acc: 0.2347 - val_loss: 2.0494 - val_acc: 0.2565\n",
      "Epoch 2/10\n",
      "196/196 [==============================] - 25s 127ms/step - loss: 1.7820 - acc: 0.3527 - val_loss: 1.4924 - val_acc: 0.4649\n",
      "Epoch 3/10\n",
      "196/196 [==============================] - 24s 123ms/step - loss: 1.6250 - acc: 0.4105 - val_loss: 1.5980 - val_acc: 0.4299\n",
      "Epoch 4/10\n",
      "196/196 [==============================] - 24s 125ms/step - loss: 1.5107 - acc: 0.4558 - val_loss: 1.3262 - val_acc: 0.5225\n",
      "Epoch 5/10\n",
      "196/196 [==============================] - 24s 125ms/step - loss: 1.4297 - acc: 0.4874 - val_loss: 1.2165 - val_acc: 0.5679\n",
      "Epoch 6/10\n",
      "196/196 [==============================] - 24s 122ms/step - loss: 1.3536 - acc: 0.5172 - val_loss: 1.1119 - val_acc: 0.6052\n",
      "Epoch 7/10\n",
      "196/196 [==============================] - 25s 126ms/step - loss: 1.2921 - acc: 0.5413 - val_loss: 1.0641 - val_acc: 0.6228\n",
      "Epoch 8/10\n",
      "196/196 [==============================] - 24s 121ms/step - loss: 1.2388 - acc: 0.5607 - val_loss: 1.0586 - val_acc: 0.6282\n",
      "Epoch 9/10\n",
      "196/196 [==============================] - 24s 122ms/step - loss: 1.1914 - acc: 0.5805 - val_loss: 1.2473 - val_acc: 0.5761\n",
      "Epoch 10/10\n",
      "196/196 [==============================] - 24s 124ms/step - loss: 1.1465 - acc: 0.5955 - val_loss: 0.9439 - val_acc: 0.6681\n",
      "10000/10000 [==============================] - 2s 166us/step\n"
     ]
    },
    {
     "data": {
      "text/plain": [
       "[0.9438646984100342, 0.6680999994277954]"
      ]
     },
     "execution_count": 12,
     "metadata": {},
     "output_type": "execute_result"
    }
   ],
   "source": [
    "history2 = model2.fit_generator(datagen.flow(train_data,train_labels_onehot,batch_size=batch_size),\n",
    "                               steps_per_epoch=int(np.ceil(train_data.shape[0]/float(batch_size))),\n",
    "                               epochs=epochs,\n",
    "                               validation_data=(test_data,test_labels_onehot),\n",
    "                               workers=4)\n",
    "model2.evaluate(test_data,test_labels_onehot)\n",
    "#model2.save(\"model.h5\")"
   ]
  },
  {
   "cell_type": "code",
   "execution_count": 14,
   "metadata": {},
   "outputs": [
    {
     "data": {
      "image/png": "[encoded data removed]",
      "text/plain": [
       "<Figure size 576x432 with 1 Axes>"
      ]
     },
     "metadata": {
      "needs_background": "light"
     },
     "output_type": "display_data"
    },
    {
     "data": {
      "image/png": "[encoded data removed]",
      "text/plain": [
       "<Figure size 576x432 with 1 Axes>"
      ]
     },
     "metadata": {
      "needs_background": "light"
     },
     "output_type": "display_data"
    }
   ],
   "source": [
    "plt.figure(figsize=[8,6])\n",
    "plt.plot(history2.history[\"loss\"],\"r\")\n",
    "plt.plot(history2.history[\"val_loss\"],\"b\")\n",
    "plt.legend([\"train_loss\",\"validation_loss\"],fontsize=12)\n",
    "plt.xlabel(\"Epochs\",fontsize=14)\n",
    "plt.ylabel(\"Loss\",fontsize=14)\n",
    "plt.title(\"Loss Curves\",fontsize=14)\n",
    "\n",
    "plt.figure(figsize=[8,6])\n",
    "plt.plot(history2.history[\"acc\"],\"r\")\n",
    "plt.plot(history2.history[\"val_acc\"],\"b\")\n",
    "plt.legend([\"train_acc\",\"validation_acc\"],fontsize=12)\n",
    "plt.xlabel(\"Epochs\",fontsize=14)\n",
    "plt.ylabel(\"Accuracy\",fontsize=14)\n",
    "plt.title(\"Accuracy Curves\",fontsize=14)\n",
    "plt.show()"
   ]
  },
  {
   "cell_type": "code",
   "execution_count": null,
   "metadata": {},
   "outputs": [],
   "source": []
  }
 ],
 "metadata": {
  "kernelspec": {
   "display_name": "Python 3",
   "language": "python",
   "name": "python3"
  },
  "language_info": {
   "codemirror_mode": {
    "name": "ipython",
    "version": 3
   },
   "file_extension": ".py",
   "mimetype": "text/x-python",
   "name": "python",
   "nbconvert_exporter": "python",
   "pygments_lexer": "ipython3",
   "version": "3.7.7"
  }
 },
 "nbformat": 4,
 "nbformat_minor": 2
}
